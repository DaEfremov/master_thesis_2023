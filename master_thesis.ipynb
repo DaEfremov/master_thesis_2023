{
  "nbformat": 4,
  "nbformat_minor": 0,
  "metadata": {
    "colab": {
      "provenance": [],
      "machine_shape": "hm",
      "gpuType": "T4"
    },
    "kernelspec": {
      "name": "python3",
      "display_name": "Python 3"
    },
    "language_info": {
      "name": "python"
    },
    "accelerator": "GPU"
  },
  "cells": [
    {
      "cell_type": "markdown",
      "metadata": {
        "id": "N4_j3TGcXkVU"
      },
      "source": [
        "# Import and mounting"
      ]
    },
    {
      "cell_type": "code",
      "execution_count": null,
      "metadata": {
        "id": "jQL8-6mM1lxo",
        "colab": {
          "base_uri": "https://localhost:8080/"
        },
        "outputId": "7d46368a-2f6e-44ab-d983-d6d390173f61"
      },
      "outputs": [
        {
          "output_type": "stream",
          "name": "stdout",
          "text": [
            "Requirement already satisfied: pillow in /usr/local/lib/python3.10/dist-packages (9.4.0)\n"
          ]
        }
      ],
      "source": [
        "pip install pillow"
      ]
    },
    {
      "cell_type": "code",
      "execution_count": null,
      "metadata": {
        "id": "z8V89-9n2UHF",
        "colab": {
          "base_uri": "https://localhost:8080/"
        },
        "outputId": "df0987e5-5b0f-4e87-9b59-3d9cdbd0460a"
      },
      "outputs": [
        {
          "output_type": "stream",
          "name": "stdout",
          "text": [
            "Cloning into 'GroceryStoreDataset'...\n",
            "remote: Enumerating objects: 6583, done.\u001b[K\n",
            "remote: Counting objects: 100% (290/290), done.\u001b[K\n",
            "remote: Compressing objects: 100% (248/248), done.\u001b[K\n",
            "remote: Total 6583 (delta 57), reused 48 (delta 42), pack-reused 6293\u001b[K\n",
            "Receiving objects: 100% (6583/6583), 116.28 MiB | 15.83 MiB/s, done.\n",
            "Resolving deltas: 100% (287/287), done.\n"
          ]
        }
      ],
      "source": [
        "!pip install -q xlrd\n",
        "!git clone https://github.com/DaEfremov/GroceryStoreDataset.git"
      ]
    },
    {
      "cell_type": "code",
      "execution_count": null,
      "metadata": {
        "id": "TZkpBqwC7xYe",
        "colab": {
          "base_uri": "https://localhost:8080/"
        },
        "outputId": "e0b0fcd7-07e0-4882-fee7-be092d9e9c4e"
      },
      "outputs": [
        {
          "output_type": "stream",
          "name": "stdout",
          "text": [
            "Mounted at /content/drive\n"
          ]
        }
      ],
      "source": [
        "from google.colab import drive\n",
        "drive.mount('/content/drive')"
      ]
    },
    {
      "cell_type": "code",
      "execution_count": null,
      "metadata": {
        "id": "1FOWMrvdB8dy",
        "colab": {
          "base_uri": "https://localhost:8080/"
        },
        "outputId": "f80bec2c-5aa3-43da-8a85-5f0eefec0274"
      },
      "outputs": [
        {
          "output_type": "stream",
          "name": "stdout",
          "text": [
            "classes_priced.csv  test_priced.csv    train_priced.csv  val_priced.csv\n",
            "test_priced2.csv    train_priced2.csv  val_priced2.csv\n"
          ]
        }
      ],
      "source": [
        "!ls GroceryStoreDataset/dataset-with-prices"
      ]
    },
    {
      "cell_type": "code",
      "source": [
        "import pandas as pd\n",
        "import numpy as np\n",
        "import tensorflow as tf\n",
        "from PIL import Image\n",
        "import random\n",
        "\n",
        "import os\n",
        "\n",
        "from IPython.display import display\n",
        "import matplotlib.pyplot as plt\n",
        "\n",
        "#Tensorflow imports\n",
        "from tensorflow.keras import datasets, layers, models\n",
        "from tensorflow.keras.utils import to_categorical\n",
        "from tensorflow.keras.callbacks import Callback\n",
        "from tensorflow.keras import backend as K\n",
        "\n",
        "from sklearn.metrics import accuracy_score, precision_score, recall_score, f1_score, r2_score\n",
        "\n",
        "#Keras imports\n",
        "from keras.applications.densenet import DenseNet169,preprocess_input\n",
        "from keras.layers import GlobalAveragePooling2D, Dropout, Flatten, Dense, Input\n",
        "from keras.models import Model, load_model\n",
        "from keras.optimizers import SGD, Adam\n",
        "from keras.callbacks import ModelCheckpoint\n",
        "from keras.losses import mean_squared_error, categorical_crossentropy"
      ],
      "metadata": {
        "id": "u0he2hmxbfqB"
      },
      "execution_count": null,
      "outputs": []
    },
    {
      "cell_type": "markdown",
      "metadata": {
        "id": "ji3rE49AYmkx"
      },
      "source": [
        "# Creating dataframes"
      ]
    },
    {
      "cell_type": "code",
      "execution_count": null,
      "metadata": {
        "id": "vBA4xAa_DbdA"
      },
      "outputs": [],
      "source": [
        "train_df = pd.read_csv(\"GroceryStoreDataset/dataset-with-prices/train_priced2.csv\", sep=\",\")\n",
        "val_df = pd.read_csv(\"GroceryStoreDataset/dataset-with-prices/val_priced2.csv\", sep=\",\")\n",
        "test_df = pd.read_csv(\"GroceryStoreDataset/dataset-with-prices/test_priced2.csv\", sep=\",\")\n",
        "classes_df = pd.read_csv(\"GroceryStoreDataset/dataset-with-prices/classes_priced.csv\", sep=\",\")"
      ]
    },
    {
      "cell_type": "markdown",
      "source": [
        "# Load, resize and normalize images"
      ],
      "metadata": {
        "id": "fe3amOzMfWL1"
      }
    },
    {
      "cell_type": "code",
      "execution_count": null,
      "metadata": {
        "id": "alu-X5xjScnC"
      },
      "outputs": [],
      "source": [
        "def load_natural_images(img_paths, img_size=[224, 224, 3], base_dir = 'GroceryStoreDataset/dataset/', display_images=False):\n",
        "    \"\"\" Load batch of natural images.\n",
        "\n",
        "    Args:\n",
        "        img_paths (list): List of image paths.\n",
        "        img_size (list): The desired dimensions for the loaded images [height, width, channels].\n",
        "        display_images (bool): Whether to display loaded images in Colab.\n",
        "\n",
        "    Returns:\n",
        "        np.ndarray: An array of loaded and preprocessed images.\n",
        "        list: List of full image paths corresponding to the loaded images.\n",
        "    \"\"\"\n",
        "\n",
        "    img_height, img_width, n_channels = img_size\n",
        "    n_imgs = len(img_paths)\n",
        "    imgs = np.ndarray([n_imgs, img_height, img_width, n_channels], dtype=np.float32)\n",
        "\n",
        "\n",
        "    for i, img_path in enumerate(img_paths):\n",
        "        # Create the full image path by joining the base directory and relative path\n",
        "        full_path = os.path.join(base_dir, img_path)\n",
        "\n",
        "        # Open the image using Pillow (PIL)\n",
        "        img = Image.open(full_path)\n",
        "        img = img.convert('RGB')  # Ensure the image is in RGB mode\n",
        "\n",
        "        # Resize the image using Lanczos\n",
        "        img = img.resize((img_width, img_height), Image.LANCZOS)\n",
        "\n",
        "        # Normalize pixel values\n",
        "        img = np.array(img) / 255.0\n",
        "        imgs[i] = img\n",
        "\n",
        "        if display_images:\n",
        "            img_display = Image.open(full_path)\n",
        "            display(img_display)\n",
        "\n",
        "    return imgs"
      ]
    },
    {
      "cell_type": "markdown",
      "source": [
        "# Plot fine-grained histogram"
      ],
      "metadata": {
        "id": "1XXxMDBTgYM0"
      }
    },
    {
      "cell_type": "code",
      "source": [
        "combined_df = pd.concat([train_df, val_df, test_df], ignore_index=True)\n",
        "\n",
        "plt.figure(figsize=(10, 6))\n",
        "\n",
        "# Count the occurrences of each 'Class ID (Fine)' and plot\n",
        "combined_df['Class ID (Fine)'].value_counts().sort_values(ascending=False).plot(kind='bar')\n",
        "\n",
        "# Labeling the axes\n",
        "plt.xlabel('Fine-grained classes')\n",
        "plt.ylabel('Frequency')\n",
        "plt.xticks([])\n",
        "plt.title('Histogram of fine-grained classes for full dataset')\n",
        "\n",
        "# Show the plot\n",
        "plt.savefig(\"histogram_fine.jpg\")\n",
        "plt.show()"
      ],
      "metadata": {
        "id": "yNUPN1z5gamx",
        "colab": {
          "base_uri": "https://localhost:8080/",
          "height": 540
        },
        "outputId": "ad0fbcf4-e4a9-417e-cf78-9f7892b32b99"
      },
      "execution_count": null,
      "outputs": [
        {
          "output_type": "display_data",
          "data": {
            "text/plain": [
              "<Figure size 1000x600 with 1 Axes>"
            ],
            "image/png": "[encoded data removed]"
          },
          "metadata": {}
        }
      ]
    },
    {
      "cell_type": "markdown",
      "source": [
        "# Plot coarse-grained histogram"
      ],
      "metadata": {
        "id": "mQCHC2j7gn0g"
      }
    },
    {
      "cell_type": "code",
      "source": [
        "combined_df = pd.concat([train_df, val_df, test_df], ignore_index=True)\n",
        "\n",
        "plt.figure(figsize=(10, 6))\n",
        "\n",
        "# Count the occurrences of each 'Class ID (Fine)' and plot\n",
        "combined_df['Class ID (Coarse)'].value_counts().sort_values(ascending=False).plot(kind='bar')\n",
        "\n",
        "# Labeling the axes\n",
        "plt.xlabel('Coarse-grained classes')\n",
        "plt.ylabel('Frequency')\n",
        "plt.xticks([])\n",
        "plt.title('Histogram of coarse-grained classes for full dataset')\n",
        "\n",
        "# Show the plot\n",
        "plt.savefig(\"histogram_coarse.jpg\")\n",
        "plt.show()"
      ],
      "metadata": {
        "id": "QJ6KwxXJgjfd",
        "colab": {
          "base_uri": "https://localhost:8080/",
          "height": 540
        },
        "outputId": "b292f363-1f49-490d-ecca-7a7a3fb9badb"
      },
      "execution_count": null,
      "outputs": [
        {
          "output_type": "display_data",
          "data": {
            "text/plain": [
              "<Figure size 1000x600 with 1 Axes>"
            ],
            "image/png": "[encoded data removed]"
          },
          "metadata": {}
        }
      ]
    },
    {
      "cell_type": "markdown",
      "source": [
        "#Split dataset into train, test, and val set"
      ],
      "metadata": {
        "id": "5m-x0uxZh0vi"
      }
    },
    {
      "cell_type": "code",
      "source": [
        "X_train = load_natural_images(train_df[\"0\"], img_size=[224, 224, 3], base_dir = 'GroceryStoreDataset/dataset/')\n",
        "y_train_classification = to_categorical(train_df[\"Class ID (Fine)\"], num_classes=81) # One hot encoding\n",
        "y_train_reg = train_df[\"Price (piece)\"]\n",
        "\n",
        "X_val = load_natural_images(val_df[\"0\"], img_size=[224, 224, 3], base_dir = 'GroceryStoreDataset/dataset/')\n",
        "y_val_classification = to_categorical(val_df[\"Class ID (Fine)\"], num_classes=81) # One hot encoding\n",
        "y_val_reg = val_df[\"Price (piece)\"]\n",
        "\n",
        "X_test = load_natural_images(test_df[\"0\"], img_size=[224, 224, 3], base_dir = 'GroceryStoreDataset/dataset/')\n",
        "y_test_classification = to_categorical(test_df[\"Class ID (Fine)\"], num_classes=81) # One hot encoding\n",
        "y_test_reg = test_df[\"Price (piece)\"]"
      ],
      "metadata": {
        "id": "i2gK8tweh402"
      },
      "execution_count": null,
      "outputs": []
    },
    {
      "cell_type": "markdown",
      "source": [
        "# Build the six models utilized in thesis"
      ],
      "metadata": {
        "id": "pvB3xGNnh8ps"
      }
    },
    {
      "cell_type": "markdown",
      "source": [
        "1. C1 - Classification - Categorical cross entropy\n",
        "2. R1 - Regression - MSE\n",
        "3. R1 - Regression - Custom asymmetric loss\n",
        "4. MTL1 - Integrated Custom Loss Function - Categorical cross entropy & MSE\n",
        "5. MTL2 - Weighted Multi-Output Loss - Categorical cross entropy & MSE\n",
        "6. MTL3 - Weighted Multi-Output Loss - Categorical cross entropy & Custom asymmetric loss"
      ],
      "metadata": {
        "id": "Inpcn3GDiBy9"
      }
    },
    {
      "cell_type": "code",
      "source": [
        "class CustomLearningRateScheduler(Callback):\n",
        "    \"\"\" Custom learning rate scheduler that decreases the learning rate by a fixed\n",
        "    decay rate after each epoch.\n",
        "    \"\"\"\n",
        "    def __init__(self, initial_lr, decay_amount):\n",
        "        super().__init__()\n",
        "        self.initial_lr = initial_lr\n",
        "        self.decay_amount = decay_amount\n",
        "\n",
        "    def on_epoch_end(self, epoch, logs=None):\n",
        "        # New learning rate after decay\n",
        "        new_lr = self.initial_lr - (self.decay_amount * (epoch + 1))\n",
        "        # Update the model's learning rate\n",
        "        K.set_value(self.model.optimizer.lr, new_lr)\n",
        "        # Log the current learning rate\n",
        "        print(f'\\nEpoch {epoch+1}: Learning rate is now {new_lr:.6f}.')"
      ],
      "metadata": {
        "id": "na2C8zNoimbp"
      },
      "execution_count": null,
      "outputs": []
    },
    {
      "cell_type": "markdown",
      "metadata": {
        "id": "srgC8LR8xn_c"
      },
      "source": [
        "# 1. C1 Model - Classification\n"
      ]
    },
    {
      "cell_type": "code",
      "execution_count": null,
      "metadata": {
        "id": "wzYgVVaIf2zb"
      },
      "outputs": [],
      "source": [
        "initial_lr = 0.001\n",
        "decay_amount = 1e-6  # Fixed amount of decay for the lr by each epoch\n",
        "custom_lr_scheduler = CustomLearningRateScheduler(initial_lr, decay_amount)"
      ]
    },
    {
      "cell_type": "code",
      "execution_count": null,
      "metadata": {
        "id": "oWCXV_Z9wiOC"
      },
      "outputs": [],
      "source": [
        "baseModel = DenseNet169(weights='imagenet', include_top=False)\n",
        "#With include_top=False I remove the final fully connected layer from the DenseNet\n",
        "\n",
        "epochs_choice = 60\n",
        "batch_size = 32\n",
        "\n",
        "#Construct my own head, which will be put on top of the BaseModel\n",
        "headModel = baseModel.output\n",
        "headModel = GlobalAveragePooling2D()(headModel)\n",
        "headModel = Dense(128, activation=\"relu\")(headModel)\n",
        "headModel = Dropout(0.5)(headModel)\n",
        "headModel = Dense(81, activation=\"softmax\")(headModel)\n",
        "\n",
        "#combine models\n",
        "model = Model(inputs=baseModel.input, outputs=headModel)\n",
        "\n",
        "model_checkpoint = ModelCheckpoint('best_model1.h5', monitor='val_loss', mode='min', save_best_only=True, verbose=1)\n",
        "\n",
        "opt = SGD(learning_rate=initial_lr, momentum=0.9)\n",
        "model.compile(loss=\"categorical_crossentropy\", optimizer=opt,\n",
        "              metrics=[\"accuracy\"])\n",
        "\n",
        "print(\"Start training:\")\n",
        "His_model_1 = model.fit(\n",
        "    X_train,\n",
        "    y_train_classification,\n",
        "    validation_data=(X_val, y_val_classification),\n",
        "    batch_size = batch_size,\n",
        "    epochs=epochs_choice,\n",
        "    callbacks=[custom_lr_scheduler, model_checkpoint])\n"
      ]
    },
    {
      "cell_type": "markdown",
      "source": [
        "## Plotting\n"
      ],
      "metadata": {
        "id": "9-pCKYwNjN2R"
      }
    },
    {
      "cell_type": "code",
      "source": [
        "best_model_epoch = 52\n",
        "\n",
        "fig, (ax1, ax2) = plt.subplots(1, 2, figsize=(15, 6))\n",
        "\n",
        "# Plot training loss and validation loss\n",
        "ax1.plot(np.arange(1, epochs_choice + 1), His_model_1.history[\"loss\"], label=\"Training Loss\")\n",
        "ax1.plot(np.arange(1, epochs_choice + 1), His_model_1.history[\"val_loss\"], label=\"Validation Loss\")\n",
        "ax1.axvline(x=best_model_epoch, color='r', linestyle='--', label='Epoch With Lowest Loss')\n",
        "ax1.grid()\n",
        "\n",
        "# Title and labels for the loss plot\n",
        "ax1.set_title(\"Training and Validation Loss - Classification\")\n",
        "ax1.set_xlabel(\"Epoch\")\n",
        "ax1.set_ylabel(\"Loss\")\n",
        "ax1.legend(loc=\"upper right\")\n",
        "\n",
        "# Plot training accuracy and validation accuracy\n",
        "ax2.plot(np.arange(1, epochs_choice + 1), His_model_1.history[\"accuracy\"], label=\"Training Accuracy\")\n",
        "ax2.plot(np.arange(1, epochs_choice + 1), His_model_1.history[\"val_accuracy\"], label=\"Validation Accuracy\")\n",
        "ax2.axvline(x=best_model_epoch, color='r', linestyle='--', label='Epoch With Lowest Loss')\n",
        "ax2.grid()\n",
        "\n",
        "# Title and labels for the accuracy plot\n",
        "ax2.set_title(\"Training and Validation Accuracy - Classification\")\n",
        "ax2.set_xlabel(\"Epoch\")\n",
        "ax2.set_ylabel(\"Accuracy\")\n",
        "ax2.legend(loc=\"lower right\")\n",
        "\n",
        "# Adjust spacing between subplots\n",
        "plt.tight_layout()\n",
        "\n",
        "# Save the plots to separate files\n",
        "plt.savefig(\"C1_loss_acc.png\")\n",
        "plt.show()"
      ],
      "metadata": {
        "id": "AWcWwV4XjSdH"
      },
      "execution_count": null,
      "outputs": []
    },
    {
      "cell_type": "markdown",
      "metadata": {
        "id": "hu_6Ga9hsQ6S"
      },
      "source": [
        "## Evaluation metrics validation"
      ]
    },
    {
      "cell_type": "code",
      "execution_count": null,
      "metadata": {
        "id": "bwFdyqnBsUpt"
      },
      "outputs": [],
      "source": [
        "# Load the best model from checkpoint\n",
        "best_model = load_model('best_model1.h5')\n",
        "loss, accuracy = best_model.evaluate(X_val, y_val_classification, verbose=0)\n",
        "\n",
        "# Predict on test set\n",
        "predictions = best_model.predict(X_val)\n",
        "predicted_classes = np.argmax(predictions, axis=1)\n",
        "true_classes = np.argmax(y_val_classification, axis=1)\n",
        "\n",
        "# Calculate metrics\n",
        "accuracy = accuracy_score(true_classes, predicted_classes)\n",
        "precision = precision_score(true_classes, predicted_classes, average='macro')\n",
        "recall = recall_score(true_classes, predicted_classes, average='macro')\n",
        "f1 = f1_score(true_classes, predicted_classes, average='macro')\n",
        "\n",
        "# Print metrics\n",
        "print(f\"Loss: {loss}\")\n",
        "print(f\"Accuracy: {accuracy}\")\n",
        "print(f\"Precision: {precision}\")\n",
        "print(f\"Recall: {recall}\")\n",
        "print(f\"F1 Score: {f1}\")"
      ]
    },
    {
      "cell_type": "markdown",
      "metadata": {
        "id": "4SqFW3RFsLyz"
      },
      "source": [
        "## Evaluation metrics test"
      ]
    },
    {
      "cell_type": "code",
      "execution_count": null,
      "metadata": {
        "id": "bMVKkWDgDJvs"
      },
      "outputs": [],
      "source": [
        "# Load the best model from checkpoint\n",
        "best_model = load_model('best_model1.h5')\n",
        "loss, accuracy = best_model.evaluate(X_test, y_test_classification, verbose=0)\n",
        "\n",
        "# Predict on test set\n",
        "predictions = best_model.predict(X_test)\n",
        "predicted_classes = np.argmax(predictions, axis=1)\n",
        "true_classes = np.argmax(y_test_classification, axis=1)\n",
        "\n",
        "# Calculate metrics\n",
        "accuracy = accuracy_score(true_classes, predicted_classes)\n",
        "precision = precision_score(true_classes, predicted_classes, average='macro')\n",
        "recall = recall_score(true_classes, predicted_classes, average='macro')\n",
        "f1 = f1_score(true_classes, predicted_classes, average='macro')\n",
        "\n",
        "# Print metrics\n",
        "print(f\"Loss: {loss}\")\n",
        "print(f\"Accuracy: {accuracy}\")\n",
        "print(f\"Precision: {precision}\")\n",
        "print(f\"Recall: {recall}\")\n",
        "print(f\"F1 Score: {f1}\")"
      ]
    },
    {
      "cell_type": "code",
      "execution_count": null,
      "metadata": {
        "id": "GNN5CUD-hLbK"
      },
      "outputs": [],
      "source": [
        "del model, X_train, y_train_classification, X_val, y_val_classification, predictions"
      ]
    },
    {
      "cell_type": "code",
      "execution_count": null,
      "metadata": {
        "id": "UM5jdumhyhJ_"
      },
      "outputs": [],
      "source": [
        "X_train = load_natural_images(train_df[\"0\"], img_size=[224, 224, 3], base_dir = 'GroceryStoreDataset/dataset/')\n",
        "y_train_classification = to_categorical(train_df[\"Class ID (Fine)\"], num_classes=81) # One hot encoding\n",
        "y_train_reg = train_df[\"Price (piece)\"]\n",
        "\n",
        "X_val = load_natural_images(val_df[\"0\"], img_size=[224, 224, 3], base_dir = 'GroceryStoreDataset/dataset/')\n",
        "y_val_classification = to_categorical(val_df[\"Class ID (Fine)\"], num_classes=81) # One hot encoding\n",
        "y_val_reg = val_df[\"Price (piece)\"]\n",
        "\n",
        "X_test = load_natural_images(test_df[\"0\"], img_size=[224, 224, 3], base_dir = 'GroceryStoreDataset/dataset/')\n",
        "y_test_classification = to_categorical(test_df[\"Class ID (Fine)\"], num_classes=81) # One hot encoding\n",
        "y_test_reg = test_df[\"Price (piece)\"]"
      ]
    },
    {
      "cell_type": "markdown",
      "metadata": {
        "id": "0q3Q9cd6C8Ok"
      },
      "source": [
        "# 2. R1 - Regression - MSE"
      ]
    },
    {
      "cell_type": "code",
      "execution_count": null,
      "metadata": {
        "id": "X193CtDGDDV7"
      },
      "outputs": [],
      "source": [
        "baseModel = DenseNet169(weights='imagenet', include_top=False)\n",
        " #With include_top=False I remove the final fully connected layer from the DenseNet\n",
        "\n",
        "epochs_choice = 60\n",
        "batch_size = 32\n",
        "\n",
        "model_checkpoint = ModelCheckpoint('best_model2.h5', monitor='val_loss', mode='min', save_best_only=True, verbose=1)\n",
        "\n",
        "#Construct my own head, which will be put on top of the BaseModel\n",
        "headModel = baseModel.output\n",
        "headModel = GlobalAveragePooling2D()(headModel)\n",
        "headModel = Dense(128, activation=\"relu\")(headModel)\n",
        "headModel = Dropout(0.5)(headModel)\n",
        "headModel = Dense(1, activation=\"linear\", name=\"price_output\")(headModel)\n",
        "\n",
        "#combine models\n",
        "model = Model(inputs=baseModel.input, outputs=headModel)\n",
        "\n",
        "\n",
        "opt =Adam(learning_rate=1e-4)\n",
        "\n",
        "model.compile(loss=\"mean_squared_error\", optimizer=opt)\n",
        "\n",
        "print(\"Start training:\")\n",
        "His_model_2 = model.fit(\n",
        "    X_train,\n",
        "    y_train_reg,\n",
        "    validation_data=(X_val, y_val_reg),\n",
        "    batch_size = batch_size,\n",
        "    epochs=epochs_choice,\n",
        "    callbacks=[model_checkpoint])"
      ]
    },
    {
      "cell_type": "markdown",
      "metadata": {
        "id": "72qJ1YVpEYK5"
      },
      "source": [
        "##Plot loss\n"
      ]
    },
    {
      "cell_type": "code",
      "execution_count": null,
      "metadata": {
        "id": "Xo12Dnm5EcGj"
      },
      "outputs": [],
      "source": [
        "best_model_epoch = 54\n",
        "\n",
        "plt.figure(figsize=(10, 6))\n",
        "plt.plot(np.arange(1, epochs_choice + 1), His_model_2.history[\"loss\"], label=\"Training Loss\")\n",
        "plt.plot(np.arange(1, epochs_choice + 1), His_model_2.history[\"val_loss\"], label=\"Validation Loss\")\n",
        "plt.axvline(x=best_model_epoch, color='r', linestyle='--', label='Epoch With Lowest Loss')\n",
        "plt.grid()\n",
        "\n",
        "plt.xlabel('Epochs')\n",
        "plt.ylabel('Mean Squared Error')\n",
        "plt.legend()\n",
        "plt.title('Training and Validation Loss - Regression')\n",
        "plt.savefig(\"R1_loss\")\n",
        "plt.show()"
      ]
    },
    {
      "cell_type": "markdown",
      "metadata": {
        "id": "trOEhT1uzdyT"
      },
      "source": [
        "## Evaluation metrics - validation"
      ]
    },
    {
      "cell_type": "code",
      "execution_count": null,
      "metadata": {
        "colab": {
          "base_uri": "https://localhost:8080/"
        },
        "id": "uKeuMu4dzhUr",
        "outputId": "b01d291e-90a6-4d38-f98c-6b815fe6541a"
      },
      "outputs": [
        {
          "output_type": "stream",
          "name": "stdout",
          "text": [
            "10/10 [==============================] - 4s 121ms/step\n",
            "MSE Loss: 0.09160644561052322\n",
            "R-squared: -1.2923521924799442\n"
          ]
        }
      ],
      "source": [
        "# Load the best model from checkpoint\n",
        "best_model = load_model('best_model2.h5')\n",
        "\n",
        "mse_loss = best_model.evaluate(X_val, y_val_reg, verbose=0)\n",
        "\n",
        "# Predict on val set\n",
        "predictions = best_model.predict(X_val)\n",
        "\n",
        "# Calculate R-squared\n",
        "r_squared = r2_score(y_val_reg, predictions)\n",
        "\n",
        "# Print metrics\n",
        "print(f\"MSE Loss: {mse_loss}\")\n",
        "print(f\"R-squared: {r_squared}\")"
      ]
    },
    {
      "cell_type": "markdown",
      "metadata": {
        "id": "Wz882VrmzO1J"
      },
      "source": [
        "##Evaluation metrics - test\n",
        "\n",
        "\n",
        "\n"
      ]
    },
    {
      "cell_type": "code",
      "execution_count": null,
      "metadata": {
        "colab": {
          "base_uri": "https://localhost:8080/"
        },
        "id": "tZq9ardyzRPA",
        "outputId": "a1d179e1-7a38-47b0-8951-a159c8902063"
      },
      "outputs": [
        {
          "output_type": "stream",
          "name": "stdout",
          "text": [
            "78/78 [==============================] - 12s 116ms/step\n",
            "MSE Loss: 0.07141085714101791\n",
            "R-squared: 0.8531289666659561\n"
          ]
        }
      ],
      "source": [
        "# Load the best model from checkpoint\n",
        "best_model = load_model('best_model2.h5')\n",
        "\n",
        "\n",
        "mse_loss = best_model.evaluate(X_test, y_test_reg, verbose=0)\n",
        "\n",
        "# Predict on test set\n",
        "predictions = best_model.predict(X_test)\n",
        "\n",
        "# Calculate R-squared\n",
        "r_squared = r2_score(y_test_reg, predictions)\n",
        "\n",
        "# Print metrics\n",
        "print(f\"MSE Loss: {mse_loss}\")\n",
        "print(f\"R-squared: {r_squared}\")"
      ]
    },
    {
      "cell_type": "markdown",
      "source": [
        "## Residuals plot"
      ],
      "metadata": {
        "id": "v1RuPmLfmSOr"
      }
    },
    {
      "cell_type": "code",
      "source": [
        "y_test_reg = np.array(y_test_reg).ravel()\n",
        "predicted_prices_test = np.array(predictions).ravel()\n",
        "residuals = y_test_reg - predicted_prices_test\n",
        "\n",
        "# Verify that both arrays have the same length\n",
        "assert len(y_test_reg) == len(predicted_prices_test), \"Data size mismatch.\"\n",
        "\n",
        "# Calculate the average residual\n",
        "average_residual = np.mean(residuals)\n",
        "\n",
        "plt.figure(figsize=(8, 6))\n",
        "plt.scatter(predicted_prices_test, residuals)\n",
        "plt.grid()\n",
        "plt.xlabel('Predicted prices')\n",
        "plt.ylabel('Residuals')\n",
        "plt.axhline(y=0, color='r', linestyle='--', label='Zero Residual')\n",
        "plt.axhline(y=average_residual, color='g', linestyle='--', label=f'Avg Residual: {average_residual:.2f}')\n",
        "plt.title('Residual Plot')\n",
        "\n",
        "# Display the legend\n",
        "plt.legend()\n",
        "plt.savefig(\"R1_residuals.png\")\n",
        "plt.show()"
      ],
      "metadata": {
        "id": "bXvuMRqgmU6x"
      },
      "execution_count": null,
      "outputs": []
    },
    {
      "cell_type": "markdown",
      "metadata": {
        "id": "4HeeYJyiJ4dk"
      },
      "source": [
        "## Get average predicted prices for R1 model\n"
      ]
    },
    {
      "cell_type": "code",
      "execution_count": null,
      "metadata": {
        "id": "WpjJGYqOKDom"
      },
      "outputs": [],
      "source": [
        "#Create the mapping from fine to coarse class names\n",
        "fine_to_coarse_mapping = dict(zip(classes_df[\"Class ID (Fine)\"], classes_df[\"Coarse Class Name (str)\"]))\n",
        "\n",
        "#Label each image in the test set with its coarse-grained class\n",
        "test_df[\"Coarse Class Name (str)\"] = test_df[\"Class ID (Fine)\"].map(fine_to_coarse_mapping)\n",
        "best_model = load_model('best_model2.h5')\n",
        "\n",
        "predictions = best_model.predict(X_test)\n",
        "test_df[\"predicted_price\"] = predictions\n",
        "\n",
        "#Group by the coarse-grained class and compute the average predicted price\n",
        "average_predicted_prices_coarse = test_df.groupby(\"Coarse Class Name (str)\")[\"predicted_price\"].mean()\n",
        "\n",
        "# Convert to Df\n",
        "df_coarse = average_predicted_prices_coarse.reset_index()\n",
        "df_coarse.columns = ['Coarse Grained Classes', 'Predicted Prices']\n",
        "\n",
        "df_coarse.to_excel(\"predicted_prices_R1.xlsx\", index=False)"
      ]
    },
    {
      "cell_type": "code",
      "execution_count": null,
      "metadata": {
        "id": "Fh6P3eWZ-wjs"
      },
      "outputs": [],
      "source": [
        "del model, X_train, y_train_reg, X_val, y_val_reg, predictions"
      ]
    },
    {
      "cell_type": "code",
      "execution_count": null,
      "metadata": {
        "id": "ZuuTQNWpLJbV"
      },
      "outputs": [],
      "source": [
        "X_train = load_natural_images(train_df[\"0\"], img_size=[224, 224, 3], base_dir = 'GroceryStoreDataset/dataset/')\n",
        "y_train_classification = to_categorical(train_df[\"Class ID (Fine)\"], num_classes=81) # One hot encoding\n",
        "y_train_reg = train_df[\"Price (piece)\"]\n",
        "\n",
        "X_val = load_natural_images(val_df[\"0\"], img_size=[224, 224, 3], base_dir = 'GroceryStoreDataset/dataset/')\n",
        "y_val_classification = to_categorical(val_df[\"Class ID (Fine)\"], num_classes=81) # One hot encoding\n",
        "y_val_reg = val_df[\"Price (piece)\"]\n",
        "\n",
        "X_test = load_natural_images(test_df[\"0\"], img_size=[224, 224, 3], base_dir = 'GroceryStoreDataset/dataset/')\n",
        "y_test_classification = to_categorical(test_df[\"Class ID (Fine)\"], num_classes=81) # One hot encoding\n",
        "y_test_reg = test_df[\"Price (piece)\"]"
      ]
    },
    {
      "cell_type": "markdown",
      "source": [
        "# 3. R2 - Regression - Custom asymmetric loss"
      ],
      "metadata": {
        "id": "c-X8tgjFm_q7"
      }
    },
    {
      "cell_type": "code",
      "execution_count": null,
      "metadata": {
        "id": "JBhGy6T-0H3a"
      },
      "outputs": [],
      "source": [
        "theta_r = 10.0  # Hyperparameter\n",
        "alpha_r = 1.0  # Hyperparameter\n",
        "psi_r = 10.0    # Hyperparameter\n",
        "loss_type = \"exponential\"  # Hyperparameter\n",
        "\n",
        "def asymmetric_loss(y_true, y_pred):\n",
        "\n",
        "    residuals = y_true - y_pred\n",
        "\n",
        "    left_loss = tf.where(residuals < 0, residuals**2, 0.0)\n",
        "\n",
        "    if loss_type == 'linear':\n",
        "        right_loss = alpha_r * theta_r * (2*residuals - theta_r)\n",
        "    elif loss_type == 'exponential':\n",
        "        right_loss = alpha_r * theta_r * (theta_r + 2 * psi_r * (tf.exp((residuals - theta_r) / psi_r) - 1))\n",
        "    elif loss_type == 'quadratic':\n",
        "        right_loss = alpha_r * residuals**2\n",
        "    else:\n",
        "        raise ValueError(f\"Invalid loss_type: {loss_type}\")\n",
        "\n",
        "    right_conditioned_loss = tf.where(residuals >= theta_r, right_loss, alpha_r * residuals**2)\n",
        "\n",
        "    return left_loss + right_conditioned_loss"
      ]
    },
    {
      "cell_type": "markdown",
      "metadata": {
        "id": "OYY7xrwIuXoY"
      },
      "source": [
        "## Assymetric loss function plotting:"
      ]
    },
    {
      "cell_type": "code",
      "execution_count": null,
      "metadata": {
        "id": "V9LuJO9WzhkN"
      },
      "outputs": [],
      "source": [
        "def plot_losses():\n",
        "    residual_range = np.linspace(-20, 20, 400)\n",
        "    y_true_vals = np.zeros_like(residual_range)\n",
        "    asymmetric_losses = []\n",
        "    mse_losses = []\n",
        "\n",
        "    for r in residual_range:\n",
        "        y_pred_val = y_true_vals - r\n",
        "\n",
        "        loss_asym = asymmetric_loss(tf.constant(y_true_vals, dtype=tf.float32),\n",
        "                                    tf.constant(y_pred_val, dtype=tf.float32))\n",
        "        asymmetric_losses.append(np.mean(loss_asym))\n",
        "\n",
        "        loss_mse = tf.reduce_mean(tf.square(r))\n",
        "        mse_losses.append(loss_mse)\n",
        "\n",
        "    plt.figure(figsize=(10, 6))\n",
        "    plt.plot(residual_range, asymmetric_losses, label='Asymmetric loss', color='orange')\n",
        "    plt.plot(residual_range, mse_losses, label='MSE (symmetric)', color='blue')\n",
        "    plt.axvline(x=theta_r, linestyle='--', color='purple', label='θ')\n",
        "    plt.axhline(y=0, color='gray', linestyle='-', linewidth=0.5)\n",
        "    plt.axvline(x=0, color='gray', linestyle='-', linewidth=0.5)\n",
        "    plt.title('Comparison of Loss Functions')\n",
        "    plt.xlabel('Residuals')\n",
        "    plt.ylabel('Loss')\n",
        "    plt.legend()\n",
        "    plt.grid(True, which='both', linestyle='--', linewidth=0.5)\n",
        "    plt.show()\n",
        "\n",
        "plot_losses()"
      ]
    },
    {
      "cell_type": "markdown",
      "metadata": {
        "id": "mJku_Yzd-VqN"
      },
      "source": [
        "## Implementing into model"
      ]
    },
    {
      "cell_type": "code",
      "execution_count": null,
      "metadata": {
        "colab": {
          "background_save": true
        },
        "id": "wWhmvGGL79JH"
      },
      "outputs": [],
      "source": [
        "baseModel = DenseNet169(weights='imagenet', include_top=False)\n",
        " #With include_top=False I remove the final fully connected layer from the DenseNet\n",
        "\n",
        "epochs_choice = 60\n",
        "batch_size = 32\n",
        "\n",
        "#Construct my own head, which will be put on top of the BaseModel\n",
        "headModel = baseModel.output\n",
        "headModel = GlobalAveragePooling2D()(headModel)\n",
        "headModel = Dense(128, activation=\"relu\")(headModel)\n",
        "headModel = Dropout(0.5)(headModel)\n",
        "headModel = Dense(1, activation=\"linear\", name=\"price_output\")(headModel)\n",
        "\n",
        "#combine models\n",
        "model = Model(inputs=baseModel.input, outputs=headModel)\n",
        "model_checkpoint = ModelCheckpoint('best_model3.h5', monitor='val_loss', mode='min', save_best_only=True, verbose=1)\n",
        "\n",
        "opt =Adam(learning_rate=1e-4)\n",
        "\n",
        "model.compile(loss=asymmetric_loss, optimizer=opt)\n",
        "\n",
        "print(\"Start training:\")\n",
        "His_model_3 = model.fit(\n",
        "    X_train,\n",
        "    y_train_reg,\n",
        "    validation_data=(X_val, y_val_reg),\n",
        "    batch_size = batch_size,\n",
        "    epochs=epochs_choice,\n",
        "    callbacks=[model_checkpoint])"
      ]
    },
    {
      "cell_type": "markdown",
      "metadata": {
        "id": "vK3cgesG79JJ"
      },
      "source": [
        "##Plot regression model\n"
      ]
    },
    {
      "cell_type": "code",
      "execution_count": null,
      "metadata": {
        "id": "na8WQMnYm5Wp"
      },
      "outputs": [],
      "source": [
        "best_model_epoch = 56\n",
        "\n",
        "plt.figure(figsize=(10, 6))\n",
        "plt.plot(np.arange(1, epochs_choice + 1), His_model_3.history[\"loss\"], label=\"Training Loss\")\n",
        "plt.plot(np.arange(1, epochs_choice + 1), His_model_3.history[\"val_loss\"], label=\"Validation Loss\")\n",
        "plt.axvline(x=best_model_epoch, color='r', linestyle='--', label='Epoch With Lowest Loss')\n",
        "plt.grid()\n",
        "\n",
        "plt.xlabel('Epochs')\n",
        "plt.ylabel('Mean Squared Error')\n",
        "plt.legend()\n",
        "plt.title('Training and Validation Loss - Regression')\n",
        "plt.savefig(\"R2_loss.png\")\n",
        "plt.show()"
      ]
    },
    {
      "cell_type": "markdown",
      "metadata": {
        "id": "FOnaYnE4m5Wy"
      },
      "source": [
        "## Evaluation metrics - validation"
      ]
    },
    {
      "cell_type": "code",
      "execution_count": null,
      "metadata": {
        "id": "kfIrX-mJm5Wz"
      },
      "outputs": [],
      "source": [
        "# Load the best model from checkpoint\n",
        "best_model = load_model('best_model3.h5', custom_objects={'asymmetric_loss': asymmetric_loss})\n",
        "\n",
        "mse_loss = best_model.evaluate(X_val, y_val_reg, verbose=0)\n",
        "\n",
        "# Predict on test set\n",
        "predictions = best_model.predict(X_val)\n",
        "\n",
        "# Calculate R-squared\n",
        "r_squared = r2_score(y_val_reg, predictions)\n",
        "\n",
        "# Print metrics\n",
        "print(f\"MSE Loss: {mse_loss}\")\n",
        "print(f\"R-squared: {r_squared}\")"
      ]
    },
    {
      "cell_type": "markdown",
      "metadata": {
        "id": "o6fld2MMm5Ww"
      },
      "source": [
        "##Evaluation metrics - test\n",
        "\n",
        "\n",
        "\n"
      ]
    },
    {
      "cell_type": "code",
      "execution_count": null,
      "metadata": {
        "colab": {
          "base_uri": "https://localhost:8080/"
        },
        "id": "gpx9yiMMm5Wx",
        "outputId": "debea13a-82e0-4acd-d737-2a45bf1e81a4"
      },
      "outputs": [
        {
          "output_type": "stream",
          "name": "stdout",
          "text": [
            "78/78 [==============================] - 12s 123ms/step\n",
            "MSE Loss: 22.019554138183594\n",
            "R-squared: 0.8762356476137393\n"
          ]
        }
      ],
      "source": [
        "# Load the best model from checkpoint\n",
        "best_model = load_model('best_model3.h5', custom_objects={'asymmetric_loss': asymmetric_loss})\n",
        "\n",
        "\n",
        "mse_loss = best_model.evaluate(X_test, y_test_reg, verbose=0)\n",
        "\n",
        "# Predict on test set\n",
        "predictions = best_model.predict(X_test)\n",
        "\n",
        "# Calculate R-squared\n",
        "r_squared = r2_score(y_test_reg, predictions)\n",
        "\n",
        "# Print metrics\n",
        "print(f\"MSE Loss: {mse_loss}\")\n",
        "print(f\"R-squared: {r_squared}\")"
      ]
    },
    {
      "cell_type": "markdown",
      "source": [
        "## Residuals plot"
      ],
      "metadata": {
        "id": "OXslURTZokeB"
      }
    },
    {
      "cell_type": "code",
      "source": [
        "y_test_reg = np.array(y_test_reg).ravel()\n",
        "predicted_prices_test = np.array(predictions).ravel()\n",
        "residuals = y_test_reg - predicted_prices_test\n",
        "\n",
        "# Verify that both arrays have the same length\n",
        "assert len(y_test_reg) == len(predicted_prices_test), \"Data size mismatch.\"\n",
        "\n",
        "# Calculate the average residual\n",
        "average_residual = np.mean(residuals)\n",
        "\n",
        "plt.figure(figsize=(8, 6))\n",
        "plt.scatter(predicted_prices_test, residuals)\n",
        "plt.grid()\n",
        "plt.xlabel('Predicted prices')\n",
        "plt.ylabel('Residuals')\n",
        "plt.axhline(y=0, color='r', linestyle='--', label='Zero Residual')\n",
        "plt.axhline(y=average_residual, color='g', linestyle='--', label=f'Avg Residual: {average_residual:.2f}')\n",
        "plt.title('Residual Plot')\n",
        "\n",
        "# Display the legend\n",
        "plt.legend()\n",
        "plt.savefig(\"R2_residuals.png\")\n",
        "plt.show()"
      ],
      "metadata": {
        "id": "zlaAaUysomJ8"
      },
      "execution_count": null,
      "outputs": []
    },
    {
      "cell_type": "markdown",
      "source": [
        "## Get average predicted prices for R2 model"
      ],
      "metadata": {
        "id": "3K84yY5Jowxv"
      }
    },
    {
      "cell_type": "code",
      "execution_count": null,
      "metadata": {
        "colab": {
          "base_uri": "https://localhost:8080/"
        },
        "id": "tXwoW0E6m5W5",
        "outputId": "053f797c-5eb1-4182-ec1d-4ab2013125aa"
      },
      "outputs": [
        {
          "output_type": "stream",
          "name": "stdout",
          "text": [
            "78/78 [==============================] - 12s 122ms/step\n"
          ]
        }
      ],
      "source": [
        "#Create the mapping from fine to coarse class names\n",
        "fine_to_coarse_mapping = dict(zip(classes_df[\"Class ID (Fine)\"], classes_df[\"Coarse Class Name (str)\"]))\n",
        "\n",
        "#Label each image in the test set with its coarse-grained class\n",
        "test_df[\"Coarse Class Name (str)\"] = test_df[\"Class ID (Fine)\"].map(fine_to_coarse_mapping)\n",
        "best_model = load_model('best_model3.h5', custom_objects={'asymmetric_loss': asymmetric_loss})\n",
        "\n",
        "\n",
        "predictions = best_model.predict(X_test)\n",
        "test_df[\"predicted_price\"] = predictions\n",
        "\n",
        "#Group by the coarse-grained class and compute the average predicted price\n",
        "average_predicted_prices_coarse = test_df.groupby(\"Coarse Class Name (str)\")[\"predicted_price\"].mean()\n",
        "\n",
        "# Convert to Df\n",
        "df_coarse = average_predicted_prices_coarse.reset_index()\n",
        "df_coarse.columns = ['Coarse Grained Classes', 'Predicted Prices']\n",
        "\n",
        "df_coarse.to_excel(\"predicted_prices_R2.xlsx\", index=False)"
      ]
    },
    {
      "cell_type": "code",
      "source": [
        "del model, X_train, y_train_reg, X_val, y_val_reg, predictions"
      ],
      "metadata": {
        "id": "zzATcP1lvZ4t"
      },
      "execution_count": null,
      "outputs": []
    },
    {
      "cell_type": "code",
      "execution_count": null,
      "metadata": {
        "id": "L415n_bdLSt3"
      },
      "outputs": [],
      "source": [
        "X_train = load_natural_images(train_df[\"0\"], img_size=[224, 224, 3], base_dir = 'GroceryStoreDataset/dataset/')\n",
        "y_train_classification = to_categorical(train_df[\"Class ID (Fine)\"], num_classes=81) # One hot encoding\n",
        "y_train_reg = train_df[\"Price (piece)\"]\n",
        "\n",
        "X_val = load_natural_images(val_df[\"0\"], img_size=[224, 224, 3], base_dir = 'GroceryStoreDataset/dataset/')\n",
        "y_val_classification = to_categorical(val_df[\"Class ID (Fine)\"], num_classes=81) # One hot encoding\n",
        "y_val_reg = val_df[\"Price (piece)\"]\n",
        "\n",
        "X_test = load_natural_images(test_df[\"0\"], img_size=[224, 224, 3], base_dir = 'GroceryStoreDataset/dataset/')\n",
        "y_test_classification = to_categorical(test_df[\"Class ID (Fine)\"], num_classes=81) # One hot encoding\n",
        "y_test_reg = test_df[\"Price (piece)\"]"
      ]
    },
    {
      "cell_type": "markdown",
      "source": [
        "# 4. MTL1 - Integrated Custom Loss Function - Categorical cross entropy & MSE"
      ],
      "metadata": {
        "id": "VPvcX8mWpATa"
      }
    },
    {
      "cell_type": "markdown",
      "source": [
        "## Create own loss function to combine regression and classification"
      ],
      "metadata": {
        "id": "8hYQuKyMpFce"
      }
    },
    {
      "cell_type": "code",
      "source": [
        "def custom_loss(y_true, y_pred):\n",
        "    classification_loss = categorical_crossentropy(y_true[0], y_pred[0])\n",
        "    price_true = y_true[1]\n",
        "    price_pred = y_pred[1]\n",
        "    price_loss = mean_squared_error(price_true, price_pred)\n",
        "    loss_weight = 0.9  # hyperparameter\n",
        "\n",
        "    residual = price_true - price_pred\n",
        "\n",
        "    # Combine classification loss, price loss, and penalty term\n",
        "    total_loss = loss_weight*classification_loss + (1-loss_weight) * price_loss\n",
        "    return total_loss"
      ],
      "metadata": {
        "id": "CUR89PEPpEl-"
      },
      "execution_count": null,
      "outputs": []
    },
    {
      "cell_type": "markdown",
      "source": [
        "## Implementing into model"
      ],
      "metadata": {
        "id": "AgwtXeYCpR6c"
      }
    },
    {
      "cell_type": "code",
      "execution_count": null,
      "metadata": {
        "id": "89zP0dOdTFBS"
      },
      "outputs": [],
      "source": [
        "initial_lr = 1e-4\n",
        "decay_amount = 1e-6  # Fixed amount of decay for the lr by each epoch\n",
        "custom_lr_scheduler = CustomLearningRateScheduler(initial_lr, decay_amount)"
      ]
    },
    {
      "cell_type": "code",
      "execution_count": null,
      "metadata": {
        "id": "ozXK17tSDM6U"
      },
      "outputs": [],
      "source": [
        "baseModel = DenseNet169(weights='imagenet', include_top=False)\n",
        " #With include_top=False I remove the final fully connected layer from the DenseNet\n",
        "\n",
        "epochs_choice = 120\n",
        "batch_size = 32\n",
        "\n",
        "#Construct my own head, which will be put on top of the BaseModel\n",
        "headModel = baseModel.output\n",
        "headModel = GlobalAveragePooling2D()(headModel)\n",
        "headModel = Dense(128, activation=\"relu\")(headModel)\n",
        "headModel = Dropout(0.5)(headModel)\n",
        "classification_output = Dense(81, activation=\"softmax\", name=\"classification_output\")(headModel)\n",
        "\n",
        "price_output = Dense(1, activation=\"linear\", name=\"price_output\")(headModel)\n",
        "\n",
        "#combine model\n",
        "model = Model(inputs=baseModel.input, outputs=[classification_output, price_output])\n",
        "model_checkpoint = ModelCheckpoint('best_model4.h5', monitor='val_loss', mode='min', save_best_only=True, verbose=1)\n",
        "\n",
        "\n",
        "optimizer_total = SGD(learning_rate=1e-4, momentum=0.9)\n",
        "\n",
        "model.compile(\n",
        "    loss=custom_loss,\n",
        "    loss_weights={\"classification_output\": 0.9, \"price_output\": 0.1},  # Adjust weight for each output according to importans\n",
        "    optimizer=optimizer_total,\n",
        "    metrics={\"classification_output\": \"accuracy\", \"price_output\": \"mean_squared_error\"}\n",
        ")\n",
        "\n",
        "\n",
        "His_model_4 = model.fit(\n",
        "    X_train,\n",
        "    {\"classification_output\": y_train_classification, \"price_output\": y_train_reg},\n",
        "    validation_data=(X_val, {\"classification_output\": y_val_classification, \"price_output\": y_val_reg}),\n",
        "    batch_size = batch_size,\n",
        "    epochs=epochs_choice,\n",
        "    callbacks=[custom_lr_scheduler, model_checkpoint]\n",
        ")\n"
      ]
    },
    {
      "cell_type": "markdown",
      "metadata": {
        "id": "vEKT_UW7zUE8"
      },
      "source": [
        "## Plots\n"
      ]
    },
    {
      "cell_type": "code",
      "execution_count": null,
      "metadata": {
        "id": "OIOgSOWr1eYg"
      },
      "outputs": [],
      "source": [
        "best_model_epoch = 71\n",
        "# Create a new figure with subplots\n",
        "fig, (ax1, ax2) = plt.subplots(1, 2, figsize=(15, 6))\n",
        "\n",
        "# Plot training loss and validation loss\n",
        "ax1.plot(np.arange(1, epochs_choice + 1), His_model_4.history[\"classification_output_loss\"], label=\"Training Loss\")\n",
        "ax1.plot(np.arange(1, epochs_choice + 1), His_model_4.history[\"val_classification_output_loss\"], label=\"Validation Loss\")\n",
        "ax1.axvline(x=best_model_epoch, color='r', linestyle='--', label='Epoch With Lowest Loss')\n",
        "ax1.grid()\n",
        "\n",
        "# Title and labels for the loss plot\n",
        "ax1.set_title(\"Training and Validation Loss - Classification\")\n",
        "ax1.set_xlabel(\"Epoch\")\n",
        "ax1.set_ylabel(\"Loss\")\n",
        "ax1.legend(loc=\"upper right\")\n",
        "\n",
        "# Plot training accuracy and validation accuracy\n",
        "ax2.plot(np.arange(1, epochs_choice + 1), His_model_4.history[\"classification_output_accuracy\"], label=\"Training Accuracy\")\n",
        "ax2.plot(np.arange(1, epochs_choice + 1), His_model_4.history[\"val_classification_output_accuracy\"], label=\"Validation Accuracy\")\n",
        "ax2.axvline(x=best_model_epoch, color='r', linestyle='--', label='Epoch With Lowest Loss')\n",
        "ax2.grid()\n",
        "\n",
        "# Title and labels for the accuracy plot\n",
        "ax2.set_title(\"Training and Validation Accuracy - Classification\")\n",
        "ax2.set_xlabel(\"Epoch\")\n",
        "ax2.set_ylabel(\"Accuracy\")\n",
        "ax2.legend(loc=\"lower right\")\n",
        "\n",
        "# Adjust spacing between subplots\n",
        "plt.tight_layout()\n",
        "\n",
        "# Save the plots to separate files\n",
        "plt.savefig(\"MTL1_class_loss.png\")\n",
        "plt.show()"
      ]
    },
    {
      "cell_type": "code",
      "execution_count": null,
      "metadata": {
        "id": "gQuk0Bjg1eYr"
      },
      "outputs": [],
      "source": [
        "best_model_epoch = 71\n",
        "\n",
        "plt.figure(figsize=(10, 6))\n",
        "plt.plot(np.arange(1, epochs_choice + 1), His_model_4.history[\"price_output_mean_squared_error\"], label=\"Training Loss\")\n",
        "plt.plot(np.arange(1, epochs_choice + 1), His_model_4.history[\"val_price_output_mean_squared_error\"], label=\"Validation Loss\")\n",
        "plt.axvline(x=best_model_epoch, color='r', linestyle='--', label='Epoch With Lowest Loss')\n",
        "plt.grid()\n",
        "\n",
        "plt.xlabel('Epochs')\n",
        "plt.ylabel('Mean Squared Error')\n",
        "plt.legend()\n",
        "plt.title('Training and Validation Loss - Regression')\n",
        "plt.savefig(\"MTL1_reg_loss\")\n",
        "plt.show()"
      ]
    },
    {
      "cell_type": "markdown",
      "metadata": {
        "id": "ERw5zWDJ5ISc"
      },
      "source": [
        "#Evaluation metrics regression - validation"
      ]
    },
    {
      "cell_type": "code",
      "execution_count": null,
      "metadata": {
        "id": "7vqRPW6Y5ISc"
      },
      "outputs": [],
      "source": [
        "# Load the best model from checkpoint\n",
        "best_model = load_model('best_model4.h5', custom_objects={'custom_loss': custom_loss})\n",
        "\n",
        "predictions = best_model.predict(X_val)[1]\n",
        "predictions = np.squeeze(predictions)\n",
        "\n",
        "# Calculate MSE\n",
        "mse = mean_squared_error(y_val_reg, predictions)\n",
        "\n",
        "# Calculate R-squared\n",
        "r2 = r2_score(y_val_reg, predictions)\n",
        "\n",
        "print(f\"MSE: {mse}\")\n",
        "print(f\"R-squared: {r2}\")"
      ]
    },
    {
      "cell_type": "markdown",
      "metadata": {
        "id": "DAR8VF1B5ISY"
      },
      "source": [
        "#Evaluation metrics regression - test\n",
        "\n",
        "\n",
        "\n"
      ]
    },
    {
      "cell_type": "code",
      "execution_count": null,
      "metadata": {
        "id": "hGKUXrtk5ISa"
      },
      "outputs": [],
      "source": [
        "# Load the best model from checkpoint\n",
        "best_model = load_model('best_model4.h5', custom_objects={'custom_loss': custom_loss})\n",
        "\n",
        "# Evaluate the model on the test set to get MSE as the loss\n",
        "predictions = best_model.predict(X_test)[1]\n",
        "predictions = np.squeeze(predictions)\n",
        "\n",
        "# Calculate MSE\n",
        "mse = mean_squared_error(y_test_reg, predictions)\n",
        "\n",
        "# Calculate R-squared\n",
        "r_squared = r2_score(y_test_reg, predictions)\n",
        "\n",
        "# Print metrics\n",
        "print(f\"MSE Loss: {mse}\")\n",
        "print(f\"R-squared: {r_squared}\")"
      ]
    },
    {
      "cell_type": "markdown",
      "source": [
        "## Residuals plot"
      ],
      "metadata": {
        "id": "ytaeOJ5dqEsr"
      }
    },
    {
      "cell_type": "code",
      "execution_count": null,
      "metadata": {
        "id": "6QXF4nro5ISd"
      },
      "outputs": [],
      "source": [
        "y_test_reg = np.array(y_test_reg).ravel()\n",
        "predicted_prices_test = np.array(predictions).ravel()\n",
        "residuals = y_test_reg - predicted_prices_test\n",
        "\n",
        "# Verify that both arrays have the same length\n",
        "assert len(y_test_reg) == len(predicted_prices_test), \"Data size mismatch.\"\n",
        "\n",
        "# Calculate the average residual\n",
        "average_residual = np.mean(residuals)\n",
        "\n",
        "plt.figure(figsize=(8, 6))\n",
        "plt.scatter(predicted_prices_test, residuals)\n",
        "plt.grid()\n",
        "plt.xlabel('Predicted prices')\n",
        "plt.ylabel('Residuals')\n",
        "plt.axhline(y=0, color='r', linestyle='--', label='Zero Residual')\n",
        "plt.axhline(y=average_residual, color='g', linestyle='--', label=f'Avg Residual: {average_residual:.2f}')\n",
        "plt.title('Residual Plot')\n",
        "\n",
        "# Display the legend\n",
        "plt.legend()\n",
        "\n",
        "plt.savefig(\"MTL1_residuals.png\")\n",
        "plt.show()"
      ]
    },
    {
      "cell_type": "markdown",
      "metadata": {
        "id": "2siPHWHgNkfn"
      },
      "source": [
        "## Get average predicted prices for MTL1 model"
      ]
    },
    {
      "cell_type": "code",
      "execution_count": null,
      "metadata": {
        "id": "Kq5-5ajMNkfp"
      },
      "outputs": [],
      "source": [
        "#Create the mapping from fine to coarse class names\n",
        "fine_to_coarse_mapping = dict(zip(classes_df[\"Class ID (Fine)\"], classes_df[\"Coarse Class Name (str)\"]))\n",
        "\n",
        "#Label each image in the test set with its coarse-grained class\n",
        "test_df[\"Coarse Class Name (str)\"] = test_df[\"Class ID (Fine)\"].map(fine_to_coarse_mapping)\n",
        "best_model = load_model('best_model4.h5', custom_objects={'custom_loss': custom_loss})\n",
        "\n",
        "\n",
        "predicted_prices = best_model.predict(X_test)[1]\n",
        "test_df[\"predicted_price\"] = predicted_prices\n",
        "\n",
        "#Group by the coarse-grained class and compute the average predicted price\n",
        "average_predicted_prices_coarse = test_df.groupby(\"Coarse Class Name (str)\")[\"predicted_price\"].mean()\n",
        "\n",
        "# Convert to Df\n",
        "df_coarse = average_predicted_prices_coarse.reset_index()\n",
        "df_coarse.columns = ['Coarse Grained Classes', 'Predicted Prices']\n",
        "\n",
        "df_coarse.to_excel(\"predicted_prices_MTL1.xlsx\", index=False)"
      ]
    },
    {
      "cell_type": "markdown",
      "metadata": {
        "id": "KE0FJ96knU_u"
      },
      "source": [
        "## Evaluation metrics classification - test"
      ]
    },
    {
      "cell_type": "code",
      "execution_count": null,
      "metadata": {
        "colab": {
          "base_uri": "https://localhost:8080/"
        },
        "id": "ZwiOykZtnU_v",
        "outputId": "efb100ea-bbb9-4e82-d713-62c7423ccc80"
      },
      "outputs": [
        {
          "output_type": "stream",
          "name": "stdout",
          "text": [
            "78/78 [==============================] - 12s 123ms/step\n",
            "Classification Loss: 1.0015467405319214\n",
            "Classification Accuracy: 0.758148893360161\n",
            "Classification Precision: 0.7818792683201944\n",
            "Classification Recall: 0.7417508895980096\n",
            "Classification F1 Score: 0.7330264453676495\n"
          ]
        }
      ],
      "source": [
        "# Load the best model\n",
        "best_model = load_model('best_model4.h5', custom_objects={'custom_loss': custom_loss})\n",
        "\n",
        "# Evaluate the model on the test set\n",
        "\n",
        "# Predict on test set\n",
        "predictions = best_model.predict(X_test)\n",
        "\n",
        "# Extract predictions for classification and price\n",
        "classification_predictions = predictions[0]\n",
        "\n",
        "# For classification\n",
        "predicted_classes = np.argmax(classification_predictions, axis=1)\n",
        "true_classes = np.argmax(y_test_classification, axis=1)  # assuming y_test_classification is one-hot encoded\n",
        "\n",
        "# Calculate classification metrics\n",
        "precision = precision_score(true_classes, predicted_classes, average='macro')\n",
        "recall = recall_score(true_classes, predicted_classes, average='macro')\n",
        "f1 = f1_score(true_classes, predicted_classes, average='macro')\n",
        "accuracy = accuracy_score(true_classes, predicted_classes)\n",
        "\n",
        "classification_loss = categorical_crossentropy(K.constant(y_test_classification), K.constant(classification_predictions))\n",
        "classification_loss = K.mean(classification_loss).numpy()  # Convert to numpy array and take mean\n",
        "\n",
        "# Print metrics\n",
        "print(f\"Classification Loss: {classification_loss}\")\n",
        "print(f\"Classification Accuracy: {accuracy}\")\n",
        "print(f\"Classification Precision: {precision}\")\n",
        "print(f\"Classification Recall: {recall}\")\n",
        "print(f\"Classification F1 Score: {f1}\")"
      ]
    },
    {
      "cell_type": "markdown",
      "metadata": {
        "id": "pElo_5eInU_x"
      },
      "source": [
        "## Evaluation metrics classification - validation"
      ]
    },
    {
      "cell_type": "code",
      "execution_count": null,
      "metadata": {
        "colab": {
          "base_uri": "https://localhost:8080/"
        },
        "id": "J9rj2RksnU_x",
        "outputId": "dba236b7-e794-48b4-d451-0f41b9bda8ba"
      },
      "outputs": [
        {
          "output_type": "stream",
          "name": "stdout",
          "text": [
            "10/10 [==============================] - 8s 125ms/step\n",
            "Classification Loss: 1.3604412078857422\n",
            "Classification Accuracy: 0.6587837837837838\n",
            "Classification Precision: 0.6209423426814732\n",
            "Classification Recall: 0.5760869565217391\n",
            "Classification F1 Score: 0.5697018612821546\n"
          ]
        }
      ],
      "source": [
        "# Load the best model\n",
        "best_model = load_model('best_model4.h5', custom_objects={'custom_loss': custom_loss})\n",
        "\n",
        "# Predict on validation set\n",
        "predictions = best_model.predict(X_val)\n",
        "\n",
        "# Extract predictions for classification\n",
        "classification_predictions = predictions[0]\n",
        "\n",
        "# For classification\n",
        "predicted_classes = np.argmax(classification_predictions, axis=1)\n",
        "true_classes = np.argmax(y_val_classification, axis=1)  # assuming y_val_classification is one-hot encoded\n",
        "\n",
        "# Calculate classification metrics\n",
        "precision = precision_score(true_classes, predicted_classes, average='macro', zero_division=0)\n",
        "recall = recall_score(true_classes, predicted_classes, average='macro', zero_division=0)\n",
        "f1 = f1_score(true_classes, predicted_classes, average='macro', zero_division=0)\n",
        "accuracy = accuracy_score(true_classes, predicted_classes)\n",
        "\n",
        "# Calculate classification loss\n",
        "classification_loss = categorical_crossentropy(K.constant(y_val_classification), K.constant(classification_predictions))\n",
        "classification_loss = K.mean(classification_loss).numpy()  # Convert to numpy array and take mean\n",
        "\n",
        "# Print metrics\n",
        "print(f\"Classification Loss: {classification_loss}\")\n",
        "print(f\"Classification Accuracy: {accuracy}\")\n",
        "print(f\"Classification Precision: {precision}\")\n",
        "print(f\"Classification Recall: {recall}\")\n",
        "print(f\"Classification F1 Score: {f1}\")"
      ]
    },
    {
      "cell_type": "code",
      "execution_count": null,
      "metadata": {
        "id": "pyQL2wdSLjcH"
      },
      "outputs": [],
      "source": [
        "del model, X_train, y_train_reg, y_train_classification, X_val, y_val_reg, y_val_classification, predictions"
      ]
    },
    {
      "cell_type": "code",
      "execution_count": null,
      "metadata": {
        "id": "4RyzlkgGLjcU"
      },
      "outputs": [],
      "source": [
        "X_train = load_natural_images(train_df[\"0\"], img_size=[224, 224, 3], base_dir = 'GroceryStoreDataset/dataset/')\n",
        "y_train_classification = to_categorical(train_df[\"Class ID (Fine)\"], num_classes=81) # One hot encoding\n",
        "y_train_reg = train_df[\"Price (piece)\"]\n",
        "\n",
        "X_val = load_natural_images(val_df[\"0\"], img_size=[224, 224, 3], base_dir = 'GroceryStoreDataset/dataset/')\n",
        "y_val_classification = to_categorical(val_df[\"Class ID (Fine)\"], num_classes=81) # One hot encoding\n",
        "y_val_reg = val_df[\"Price (piece)\"]\n",
        "\n",
        "X_test = load_natural_images(test_df[\"0\"], img_size=[224, 224, 3], base_dir = 'GroceryStoreDataset/dataset/')\n",
        "y_test_classification = to_categorical(test_df[\"Class ID (Fine)\"], num_classes=81) # One hot encoding\n",
        "y_test_reg = test_df[\"Price (piece)\"]"
      ]
    },
    {
      "cell_type": "markdown",
      "source": [
        "# 5. MTL2 - Weighted Multi-Output Loss - Categorical cross entropy & MSE"
      ],
      "metadata": {
        "id": "lbi1dnvAqkX0"
      }
    },
    {
      "cell_type": "code",
      "execution_count": null,
      "metadata": {
        "id": "gTypnvSmN1lT"
      },
      "outputs": [],
      "source": [
        "baseModel = DenseNet169(weights='imagenet', include_top=False)\n",
        " #With include_top=False I remove the final fully connected layer from the DenseNet\n",
        "\n",
        "epochs_choice = 80\n",
        "batch_size = 32\n",
        "\n",
        "#Construct my own head, which will be put on top of the BaseModel\n",
        "headModel = baseModel.output\n",
        "headModel = GlobalAveragePooling2D()(headModel)\n",
        "headModel = Dense(128, activation=\"relu\")(headModel)\n",
        "headModel = Dropout(0.5)(headModel)\n",
        "classification_output = Dense(81, activation=\"softmax\", name=\"classification_output\")(headModel)\n",
        "\n",
        "price_output = Dense(1, activation=\"linear\", name=\"price_output\")(headModel)\n",
        "\n",
        "#combine model\n",
        "model = Model(inputs=baseModel.input, outputs=[classification_output, price_output])\n",
        "model_checkpoint = ModelCheckpoint('best_model5.h5', monitor='val_loss', mode='min', save_best_only=True, verbose=1)\n",
        "\n",
        "optimizer_total = SGD(learning_rate=1e-4, momentum=0.9)\n",
        "\n",
        "# Compile the model with separate optimizers for each output\n",
        "model.compile(\n",
        "    loss={\"classification_output\": \"categorical_crossentropy\", \"price_output\": \"mean_squared_error\"},\n",
        "    loss_weights={\"classification_output\": 0.9, \"price_output\": 0.1},  # Adjust weight for each output according to importans\n",
        "    optimizer=optimizer_total,\n",
        "    metrics={\"classification_output\": \"accuracy\", \"price_output\": \"mean_squared_error\"}\n",
        ")\n",
        "\n",
        "\n",
        "His_model_5 = model.fit(\n",
        "    X_train,\n",
        "    {\"classification_output\": y_train_classification, \"price_output\": y_train_reg},\n",
        "    validation_data=(X_val, {\"classification_output\": y_val_classification, \"price_output\": y_val_reg}),\n",
        "    batch_size = batch_size,\n",
        "    epochs=epochs_choice,\n",
        "    callbacks=[custom_lr_scheduler, model_checkpoint]\n",
        ")\n"
      ]
    },
    {
      "cell_type": "markdown",
      "metadata": {
        "id": "5AN-EaAENOsN"
      },
      "source": [
        "## Plots and evaluation metrics"
      ]
    },
    {
      "cell_type": "code",
      "execution_count": null,
      "metadata": {
        "id": "sGv1ZzWfNOsO"
      },
      "outputs": [],
      "source": [
        "best_model_epoch = 65\n",
        "# Create a new figure with subplots\n",
        "fig, (ax1, ax2) = plt.subplots(1, 2, figsize=(15, 6))\n",
        "\n",
        "# Plot training loss and validation loss\n",
        "ax1.plot(np.arange(1, epochs_choice + 1), His_model_5.history[\"classification_output_loss\"], label=\"Training Loss\")\n",
        "ax1.plot(np.arange(1, epochs_choice + 1), His_model_5.history[\"val_classification_output_loss\"], label=\"Validation Loss\")\n",
        "ax1.axvline(x=best_model_epoch, color='r', linestyle='--', label='Epoch With Lowest Loss')\n",
        "ax1.grid()\n",
        "\n",
        "# Title and labels for the loss plot\n",
        "ax1.set_title(\"Training and Validation Loss - Classification\")\n",
        "ax1.set_xlabel(\"Epoch\")\n",
        "ax1.set_ylabel(\"Loss\")\n",
        "ax1.legend(loc=\"upper right\")\n",
        "\n",
        "# Plot training accuracy and validation accuracy\n",
        "ax2.plot(np.arange(1, epochs_choice + 1), His_model_5.history[\"classification_output_accuracy\"], label=\"Training Accuracy\")\n",
        "ax2.plot(np.arange(1, epochs_choice + 1), His_model_5.history[\"val_classification_output_accuracy\"], label=\"Validation Accuracy\")\n",
        "ax2.axvline(x=best_model_epoch, color='r', linestyle='--', label='Epoch With Lowest Loss')\n",
        "ax2.grid()\n",
        "\n",
        "# Title and labels for the accuracy plot\n",
        "ax2.set_title(\"Training and Validation Accuracy - Classification\")\n",
        "ax2.set_xlabel(\"Epoch\")\n",
        "ax2.set_ylabel(\"Accuracy\")\n",
        "ax2.legend(loc=\"lower right\")\n",
        "\n",
        "# Adjust spacing between subplots\n",
        "plt.tight_layout()\n",
        "\n",
        "# Save the plots to separate files\n",
        "plt.savefig(\"MTL2_class_loss.png\")\n",
        "plt.show()"
      ]
    },
    {
      "cell_type": "code",
      "execution_count": null,
      "metadata": {
        "id": "d1CdTQC5NOsR"
      },
      "outputs": [],
      "source": [
        "best_model_epoch = 65\n",
        "\n",
        "plt.figure(figsize=(10, 6))\n",
        "plt.plot(np.arange(1, epochs_choice + 1), His_model_5.history[\"price_output_mean_squared_error\"], label=\"Training Loss\")\n",
        "plt.plot(np.arange(1, epochs_choice + 1), His_model_5.history[\"val_price_output_mean_squared_error\"], label=\"Validation Loss\")\n",
        "plt.axvline(x=best_model_epoch, color='r', linestyle='--', label='Epoch With Lowest Loss')\n",
        "plt.grid()\n",
        "\n",
        "plt.xlabel('Epochs')\n",
        "plt.ylabel('Mean Squared Error')\n",
        "plt.legend()\n",
        "plt.title('Training and Validation Loss - Regression')\n",
        "plt.savefig(\"MTL2_reg_loss\")\n",
        "plt.show()"
      ]
    },
    {
      "cell_type": "markdown",
      "metadata": {
        "id": "5iCpiGxxNOsS"
      },
      "source": [
        "##Evaluation metrics regression - validation"
      ]
    },
    {
      "cell_type": "code",
      "execution_count": null,
      "metadata": {
        "id": "GQLfI3luNOsS"
      },
      "outputs": [],
      "source": [
        "# Load the best model from checkpoint\n",
        "best_model = load_model('best_model5.h5')\n",
        "\n",
        "predictions = best_model.predict(X_val)[1]\n",
        "predictions = np.squeeze(predictions)\n",
        "\n",
        "# Calculate MSE\n",
        "mse = mean_squared_error(y_val_reg, predictions)\n",
        "\n",
        "# Calculate R-squared\n",
        "r2 = r2_score(y_val_reg, predictions)\n",
        "\n",
        "print(f\"MSE: {mse}\")\n",
        "print(f\"R-squared: {r2}\")"
      ]
    },
    {
      "cell_type": "markdown",
      "metadata": {
        "id": "rLJkf4BhNOsT"
      },
      "source": [
        "##Evaluation metrics regression - test\n",
        "\n",
        "\n",
        "\n"
      ]
    },
    {
      "cell_type": "code",
      "execution_count": null,
      "metadata": {
        "id": "pxhqBuLmNOsU"
      },
      "outputs": [],
      "source": [
        "# Load the best model from checkpoint\n",
        "best_model = load_model('best_model5.h5')\n",
        "\n",
        "\n",
        "predictions = best_model.predict(X_test)[1]\n",
        "predictions = np.squeeze(predictions)\n",
        "\n",
        "# Calculate MSE\n",
        "mse = mean_squared_error(y_test_reg, predictions)\n",
        "\n",
        "# Calculate R-squared\n",
        "r_squared = r2_score(y_test_reg, predictions)\n",
        "\n",
        "# Print metrics\n",
        "print(f\"MSE Loss: {mse}\")\n",
        "print(f\"R-squared: {r_squared}\")"
      ]
    },
    {
      "cell_type": "markdown",
      "source": [
        "## Residuals plot"
      ],
      "metadata": {
        "id": "0X11UWQErebM"
      }
    },
    {
      "cell_type": "code",
      "execution_count": null,
      "metadata": {
        "id": "IlSXrA-8NOsU"
      },
      "outputs": [],
      "source": [
        "y_test_reg = np.array(y_test_reg).ravel()\n",
        "predicted_prices_test = np.array(predictions).ravel()\n",
        "residuals = y_test_reg - predicted_prices_test\n",
        "\n",
        "# Verify that both arrays have the same length\n",
        "assert len(y_test_reg) == len(predicted_prices_test), \"Data size mismatch.\"\n",
        "\n",
        "# Calculate the average residual\n",
        "average_residual = np.mean(residuals)\n",
        "\n",
        "plt.figure(figsize=(8, 6))\n",
        "plt.scatter(predicted_prices_test, residuals)\n",
        "plt.grid()\n",
        "plt.xlabel('Predicted prices')\n",
        "plt.ylabel('Residuals')\n",
        "plt.axhline(y=0, color='r', linestyle='--', label='Zero Residual')\n",
        "plt.axhline(y=average_residual, color='g', linestyle='--', label=f'Avg Residual: {average_residual:.2f}')\n",
        "plt.title('Residual Plot')\n",
        "\n",
        "# Display the legend\n",
        "plt.legend()\n",
        "\n",
        "plt.savefig(\"MTL2_residuals.png\")\n",
        "plt.show()"
      ]
    },
    {
      "cell_type": "markdown",
      "source": [
        "## Get average predicted prices for MTL2 model"
      ],
      "metadata": {
        "id": "EFF1OnV1rj4x"
      }
    },
    {
      "cell_type": "code",
      "source": [
        "#Create the mapping from fine to coarse class names\n",
        "fine_to_coarse_mapping = dict(zip(classes_df[\"Class ID (Fine)\"], classes_df[\"Coarse Class Name (str)\"]))\n",
        "\n",
        "#Label each image in the test set with its coarse-grained class\n",
        "test_df[\"Coarse Class Name (str)\"] = test_df[\"Class ID (Fine)\"].map(fine_to_coarse_mapping)\n",
        "best_model = load_model('best_model5.h5')\n",
        "\n",
        "\n",
        "predicted_prices = best_model.predict(X_test)[1]\n",
        "test_df[\"predicted_price\"] = predicted_prices\n",
        "\n",
        "#Group by the coarse-grained class and compute the average predicted price\n",
        "average_predicted_prices_coarse = test_df.groupby(\"Coarse Class Name (str)\")[\"predicted_price\"].mean()\n",
        "\n",
        "# Convert to Df\n",
        "df_coarse = average_predicted_prices_coarse.reset_index()\n",
        "df_coarse.columns = ['Coarse Grained Classes', 'Predicted Prices']\n",
        "\n",
        "df_coarse.to_excel(\"predicted_prices_MTL2.xlsx\", index=False)"
      ],
      "metadata": {
        "id": "ORmaNqS0rkLG"
      },
      "execution_count": null,
      "outputs": []
    },
    {
      "cell_type": "markdown",
      "metadata": {
        "id": "dpyFHwd-NOsX"
      },
      "source": [
        "## Evaluation metrics classification - test"
      ]
    },
    {
      "cell_type": "code",
      "execution_count": null,
      "metadata": {
        "id": "5w34PA_fNOsX"
      },
      "outputs": [],
      "source": [
        "# Load the best model\n",
        "best_model = load_model('best_model5.h5')\n",
        "\n",
        "# Evaluate the model on the test set\n",
        "\n",
        "# Predict on test set\n",
        "predictions = best_model.predict(X_test)\n",
        "\n",
        "# Extract predictions for classification and price\n",
        "classification_predictions = predictions[0]\n",
        "\n",
        "# For classification\n",
        "predicted_classes = np.argmax(classification_predictions, axis=1)\n",
        "true_classes = np.argmax(y_test_classification, axis=1)\n",
        "\n",
        "# Calculate classification metrics\n",
        "precision = precision_score(true_classes, predicted_classes, average='macro')\n",
        "recall = recall_score(true_classes, predicted_classes, average='macro')\n",
        "f1 = f1_score(true_classes, predicted_classes, average='macro')\n",
        "accuracy = accuracy_score(true_classes, predicted_classes)\n",
        "\n",
        "classification_loss = categorical_crossentropy(K.constant(y_test_classification), K.constant(classification_predictions))\n",
        "classification_loss = K.mean(classification_loss).numpy()  # Convert to numpy array and take mean\n",
        "\n",
        "# Print metrics\n",
        "print(f\"Classification Loss: {classification_loss}\")\n",
        "print(f\"Classification Accuracy: {accuracy}\")\n",
        "print(f\"Classification Precision: {precision}\")\n",
        "print(f\"Classification Recall: {recall}\")\n",
        "print(f\"Classification F1 Score: {f1}\")"
      ]
    },
    {
      "cell_type": "markdown",
      "metadata": {
        "id": "W6GuoCQcNOsY"
      },
      "source": [
        "## Evaluation metrics classification - validation"
      ]
    },
    {
      "cell_type": "code",
      "execution_count": null,
      "metadata": {
        "id": "k6Mc15B0NOsZ"
      },
      "outputs": [],
      "source": [
        "# Load the best model\n",
        "best_model = load_model('best_model5.h5')\n",
        "\n",
        "# Predict on validation set\n",
        "predictions = best_model.predict(X_val)\n",
        "\n",
        "# Extract predictions for classification\n",
        "classification_predictions = predictions[0]\n",
        "\n",
        "# For classification\n",
        "predicted_classes = np.argmax(classification_predictions, axis=1)\n",
        "true_classes = np.argmax(y_val_classification, axis=1)\n",
        "\n",
        "# Calculate classification metrics\n",
        "precision = precision_score(true_classes, predicted_classes, average='macro', zero_division=0)\n",
        "recall = recall_score(true_classes, predicted_classes, average='macro', zero_division=0)\n",
        "f1 = f1_score(true_classes, predicted_classes, average='macro', zero_division=0)\n",
        "accuracy = accuracy_score(true_classes, predicted_classes)\n",
        "\n",
        "# Calculate classification loss\n",
        "classification_loss = categorical_crossentropy(K.constant(y_val_classification), K.constant(classification_predictions))\n",
        "classification_loss = K.mean(classification_loss).numpy()  # Convert to numpy array and take mean\n",
        "\n",
        "# Print metrics\n",
        "print(f\"Classification Loss: {classification_loss}\")\n",
        "print(f\"Classification Accuracy: {accuracy}\")\n",
        "print(f\"Classification Precision: {precision}\")\n",
        "print(f\"Classification Recall: {recall}\")\n",
        "print(f\"Classification F1 Score: {f1}\")"
      ]
    },
    {
      "cell_type": "code",
      "execution_count": null,
      "metadata": {
        "id": "kKvG5xPfNOsa"
      },
      "outputs": [],
      "source": [
        "del model, X_train, y_train_reg, y_train_classification, X_val, y_val_reg, y_val_classification, predictions"
      ]
    },
    {
      "cell_type": "code",
      "execution_count": null,
      "metadata": {
        "id": "_Ykjkk6-NOsa"
      },
      "outputs": [],
      "source": [
        "X_train = load_natural_images(train_df[\"0\"], img_size=[224, 224, 3], base_dir = 'GroceryStoreDataset/dataset/')\n",
        "y_train_classification = to_categorical(train_df[\"Class ID (Fine)\"], num_classes=81) # One hot encoding\n",
        "y_train_reg = train_df[\"Price (piece)\"]\n",
        "\n",
        "X_val = load_natural_images(val_df[\"0\"], img_size=[224, 224, 3], base_dir = 'GroceryStoreDataset/dataset/')\n",
        "y_val_classification = to_categorical(val_df[\"Class ID (Fine)\"], num_classes=81) # One hot encoding\n",
        "y_val_reg = val_df[\"Price (piece)\"]\n",
        "\n",
        "X_test = load_natural_images(test_df[\"0\"], img_size=[224, 224, 3], base_dir = 'GroceryStoreDataset/dataset/')\n",
        "y_test_classification = to_categorical(test_df[\"Class ID (Fine)\"], num_classes=81) # One hot encoding\n",
        "y_test_reg = test_df[\"Price (piece)\"]"
      ]
    },
    {
      "cell_type": "markdown",
      "source": [
        "# 6. MTL3 - Weighted Multi-Output Loss - Categorical cross entropy & Custom asymmetric loss"
      ],
      "metadata": {
        "id": "5IDwLZizs1xU"
      }
    },
    {
      "cell_type": "code",
      "execution_count": null,
      "metadata": {
        "id": "9btr5AnWaUg2"
      },
      "outputs": [],
      "source": [
        "baseModel = DenseNet169(weights='imagenet', include_top=False)\n",
        " #With include_top=False I remove the final fully connected layer from the DenseNet\n",
        "\n",
        "epochs_choice = 80\n",
        "batch_size = 32\n",
        "\n",
        "\n",
        "#Construct my own head, which will be put on top of the BaseModel\n",
        "headModel = baseModel.output\n",
        "headModel = GlobalAveragePooling2D()(headModel)\n",
        "headModel = Dense(128, activation=\"relu\")(headModel)\n",
        "headModel = Dropout(0.5)(headModel)\n",
        "classification_output = Dense(81, activation=\"softmax\", name=\"classification_output\")(headModel)\n",
        "\n",
        "price_output = Dense(1, activation=\"linear\", name=\"price_output\")(headModel)\n",
        "\n",
        "#combine model\n",
        "model = Model(inputs=baseModel.input, outputs=[classification_output, price_output])\n",
        "model_checkpoint = ModelCheckpoint('best_model6.h5', monitor='val_loss', mode='min', save_best_only=True, verbose=1)\n",
        "\n",
        "\n",
        "optimizer_total = SGD(learning_rate=1e-4, momentum=0.9)\n",
        "\n",
        "\n",
        "model.compile(\n",
        "    loss={\"classification_output\": \"categorical_crossentropy\", \"price_output\": asymmetric_loss},\n",
        "    loss_weights={\"classification_output\": 0.9, \"price_output\": 0.1},  # Adjust weight for each output according to importans\n",
        "    optimizer=optimizer_total,\n",
        "    metrics={\"classification_output\": \"accuracy\", \"price_output\": \"mean_squared_error\"}\n",
        ")\n",
        "\n",
        "\n",
        "His_model_6 = model.fit(\n",
        "    X_train,\n",
        "    {\"classification_output\": y_train_classification, \"price_output\": y_train_reg},\n",
        "    validation_data=(X_val, {\"classification_output\": y_val_classification, \"price_output\": y_val_reg}),\n",
        "    batch_size = batch_size,\n",
        "    epochs=epochs_choice,\n",
        "    callbacks=[custom_lr_scheduler, model_checkpoint]\n",
        ")"
      ]
    },
    {
      "cell_type": "markdown",
      "metadata": {
        "id": "41egfiRpOT8L"
      },
      "source": [
        "## Plots and evaluation metrics\n"
      ]
    },
    {
      "cell_type": "code",
      "execution_count": null,
      "metadata": {
        "id": "vD_hCihROT8T"
      },
      "outputs": [],
      "source": [
        "best_model_epoch = 67\n",
        "# Create a new figure with subplots\n",
        "fig, (ax1, ax2) = plt.subplots(1, 2, figsize=(15, 6))\n",
        "\n",
        "# Plot training loss and validation loss\n",
        "ax1.plot(np.arange(1, epochs_choice + 1), His_model_6.history[\"classification_output_loss\"], label=\"Training Loss\")\n",
        "ax1.plot(np.arange(1, epochs_choice + 1), His_model_6.history[\"val_classification_output_loss\"], label=\"Validation Loss\")\n",
        "ax1.axvline(x=best_model_epoch, color='r', linestyle='--', label='Epoch With Lowest Loss')\n",
        "ax1.grid()\n",
        "\n",
        "# Title and labels for the loss plot\n",
        "ax1.set_title(\"Training and Validation Loss - Classification\")\n",
        "ax1.set_xlabel(\"Epoch\")\n",
        "ax1.set_ylabel(\"Loss\")\n",
        "ax1.legend(loc=\"upper right\")\n",
        "\n",
        "# Plot training accuracy and validation accuracy\n",
        "ax2.plot(np.arange(1, epochs_choice + 1), His_model_6.history[\"classification_output_accuracy\"], label=\"Training Accuracy\")\n",
        "ax2.plot(np.arange(1, epochs_choice + 1), His_model_6.history[\"val_classification_output_accuracy\"], label=\"Validation Accuracy\")\n",
        "ax2.axvline(x=best_model_epoch, color='r', linestyle='--', label='Epoch With Lowest Loss')\n",
        "ax2.grid()\n",
        "\n",
        "# Title and labels for the accuracy plot\n",
        "ax2.set_title(\"Training and Validation Accuracy - Classification\")\n",
        "ax2.set_xlabel(\"Epoch\")\n",
        "ax2.set_ylabel(\"Accuracy\")\n",
        "ax2.legend(loc=\"lower right\")\n",
        "\n",
        "# Adjust spacing between subplots\n",
        "plt.tight_layout()\n",
        "\n",
        "# Save the plots to separate files\n",
        "plt.savefig(\"MTL3_class_loss.png\")\n",
        "plt.show()"
      ]
    },
    {
      "cell_type": "code",
      "execution_count": null,
      "metadata": {
        "id": "sql-x79ZOT8W"
      },
      "outputs": [],
      "source": [
        "best_model_epoch = 67\n",
        "\n",
        "plt.figure(figsize=(10, 6))\n",
        "plt.plot(np.arange(1, epochs_choice + 1), His_model_6.history[\"price_output_mean_squared_error\"], label=\"Training Loss\")\n",
        "plt.plot(np.arange(1, epochs_choice + 1), His_model_6.history[\"val_price_output_mean_squared_error\"], label=\"Validation Loss\")\n",
        "plt.axvline(x=best_model_epoch, color='r', linestyle='--', label='Epoch With Lowest Loss')\n",
        "plt.grid()\n",
        "\n",
        "plt.xlabel('Epochs')\n",
        "plt.ylabel('Mean Squared Error')\n",
        "plt.legend()\n",
        "plt.title('Training and Validation Loss - Regression')\n",
        "plt.savefig(\"MTL3_reg_loss\")\n",
        "plt.show()"
      ]
    },
    {
      "cell_type": "markdown",
      "metadata": {
        "id": "opSKk9ZyOT8X"
      },
      "source": [
        "#Evaluation metrics regression - validation"
      ]
    },
    {
      "cell_type": "code",
      "execution_count": null,
      "metadata": {
        "id": "EufkoigAOT8Y"
      },
      "outputs": [],
      "source": [
        "# Load the best model from checkpoint\n",
        "best_model = load_model('best_model6.h5', custom_objects={'asymmetric_loss': asymmetric_loss})\n",
        "\n",
        "predictions = best_model.predict(X_val)[1]\n",
        "predictions = np.squeeze(predictions)\n",
        "\n",
        "# Calculate MSE\n",
        "mse = mean_squared_error(y_val_reg, predictions)\n",
        "\n",
        "# Calculate R-squared\n",
        "r2 = r2_score(y_val_reg, predictions)\n",
        "\n",
        "print(f\"MSE: {mse}\")\n",
        "print(f\"R-squared: {r2}\")"
      ]
    },
    {
      "cell_type": "markdown",
      "metadata": {
        "id": "C4V2vAhAOT8Z"
      },
      "source": [
        "#Evaluation metrics regression - test\n",
        "\n",
        "\n",
        "\n"
      ]
    },
    {
      "cell_type": "code",
      "execution_count": null,
      "metadata": {
        "id": "f8FsmNtJOT8Z"
      },
      "outputs": [],
      "source": [
        "# Load the best model from checkpoint\n",
        "best_model = load_model('best_model6.h5', custom_objects={'asymmetric_loss': asymmetric_loss})\n",
        "\n",
        "predictions = best_model.predict(X_test)[1]\n",
        "predictions = np.squeeze(predictions)\n",
        "\n",
        "# Calculate MSE\n",
        "mse = mean_squared_error(y_test_reg, predictions)\n",
        "\n",
        "# Calculate R-squared\n",
        "r_squared = r2_score(y_test_reg, predictions)\n",
        "\n",
        "# Print metrics\n",
        "print(f\"MSE Loss: {mse}\")\n",
        "print(f\"R-squared: {r_squared}\")"
      ]
    },
    {
      "cell_type": "markdown",
      "source": [
        "## Residuals plot\n"
      ],
      "metadata": {
        "id": "cKeZrUrcuOsi"
      }
    },
    {
      "cell_type": "code",
      "execution_count": null,
      "metadata": {
        "id": "l7FFYloQOT8a"
      },
      "outputs": [],
      "source": [
        "y_test_reg = np.array(y_test_reg).ravel()\n",
        "predicted_prices_test = np.array(predictions).ravel()\n",
        "residuals = y_test_reg - predicted_prices_test\n",
        "\n",
        "# Verify that both arrays have the same length\n",
        "assert len(y_test_reg) == len(predicted_prices_test), \"Data size mismatch.\"\n",
        "\n",
        "# Calculate the average residual\n",
        "average_residual = np.mean(residuals)\n",
        "\n",
        "plt.figure(figsize=(8, 6))\n",
        "plt.scatter(predicted_prices_test, residuals)\n",
        "plt.grid()\n",
        "plt.xlabel('Predicted prices')\n",
        "plt.ylabel('Residuals')\n",
        "plt.axhline(y=0, color='r', linestyle='--', label='Zero Residual')\n",
        "plt.axhline(y=average_residual, color='g', linestyle='--', label=f'Avg Residual: {average_residual:.2f}')\n",
        "plt.title('Residual Plot')\n",
        "\n",
        "# Display the legend\n",
        "plt.legend()\n",
        "\n",
        "plt.savefig(\"MTL3_residuals.png\")\n",
        "plt.show()"
      ]
    },
    {
      "cell_type": "markdown",
      "source": [
        "## Get average predicted prices for MTL3 model"
      ],
      "metadata": {
        "id": "mxC-Xa4Eur_D"
      }
    },
    {
      "cell_type": "code",
      "source": [
        "#Create the mapping from fine to coarse class names\n",
        "fine_to_coarse_mapping = dict(zip(classes_df[\"Class ID (Fine)\"], classes_df[\"Coarse Class Name (str)\"]))\n",
        "\n",
        "#Label each image in the test set with its coarse-grained class\n",
        "test_df[\"Coarse Class Name (str)\"] = test_df[\"Class ID (Fine)\"].map(fine_to_coarse_mapping)\n",
        "best_model = load_model('best_model6.h5', custom_objects={'asymmetric_loss': asymmetric_loss})\n",
        "\n",
        "\n",
        "predicted_prices = best_model.predict(X_test)[1]\n",
        "test_df[\"predicted_price\"] = predicted_prices\n",
        "\n",
        "#Group by the coarse-grained class and compute the average predicted price\n",
        "average_predicted_prices_coarse = test_df.groupby(\"Coarse Class Name (str)\")[\"predicted_price\"].mean()\n",
        "\n",
        "# Convert to Df\n",
        "df_coarse = average_predicted_prices_coarse.reset_index()\n",
        "df_coarse.columns = ['Coarse Grained Classes', 'Predicted Prices']\n",
        "\n",
        "df_coarse.to_excel(\"predicted_prices_MTL3.xlsx\", index=False)"
      ],
      "metadata": {
        "id": "fA-l5Or_utE6"
      },
      "execution_count": null,
      "outputs": []
    },
    {
      "cell_type": "markdown",
      "metadata": {
        "id": "oKlF9szXOT8c"
      },
      "source": [
        "## Evaluation metrics classification - test"
      ]
    },
    {
      "cell_type": "code",
      "execution_count": null,
      "metadata": {
        "id": "-ZDhX5SxOT8d"
      },
      "outputs": [],
      "source": [
        "# Load the best model\n",
        "best_model = load_model('best_model6.h5', custom_objects={'asymmetric_loss': asymmetric_loss})\n",
        "\n",
        "# Evaluate the model on the test set\n",
        "\n",
        "# Predict on test set\n",
        "predictions = best_model.predict(X_test)\n",
        "\n",
        "# Extract predictions for classification and price\n",
        "classification_predictions = predictions[0]\n",
        "\n",
        "# For classification\n",
        "predicted_classes = np.argmax(classification_predictions, axis=1)\n",
        "true_classes = np.argmax(y_test_classification, axis=1)\n",
        "\n",
        "# Calculate classification metrics\n",
        "precision = precision_score(true_classes, predicted_classes, average='macro')\n",
        "recall = recall_score(true_classes, predicted_classes, average='macro')\n",
        "f1 = f1_score(true_classes, predicted_classes, average='macro')\n",
        "accuracy = accuracy_score(true_classes, predicted_classes)\n",
        "\n",
        "classification_loss = categorical_crossentropy(K.constant(y_test_classification), K.constant(classification_predictions))\n",
        "classification_loss = K.mean(classification_loss).numpy()  # Convert to numpy array and take mean\n",
        "\n",
        "# Print metrics\n",
        "print(f\"Classification Loss: {classification_loss}\")\n",
        "print(f\"Classification Accuracy: {accuracy}\")\n",
        "print(f\"Classification Precision: {precision}\")\n",
        "print(f\"Classification Recall: {recall}\")\n",
        "print(f\"Classification F1 Score: {f1}\")"
      ]
    },
    {
      "cell_type": "markdown",
      "metadata": {
        "id": "9MGZG9maOT8e"
      },
      "source": [
        "## Evaluation metrics classification - validation"
      ]
    },
    {
      "cell_type": "code",
      "execution_count": null,
      "metadata": {
        "id": "qw-gN57-OT8e"
      },
      "outputs": [],
      "source": [
        "# Load the best model\n",
        "best_model = load_model('best_model6.h5', custom_objects={'asymmetric_loss': asymmetric_loss})\n",
        "\n",
        "# Predict on validation set\n",
        "predictions = best_model.predict(X_val)\n",
        "\n",
        "# Extract predictions for classification\n",
        "classification_predictions = predictions[0]\n",
        "\n",
        "# For classification\n",
        "predicted_classes = np.argmax(classification_predictions, axis=1)\n",
        "true_classes = np.argmax(y_val_classification, axis=1)\n",
        "\n",
        "\n",
        "# Calculate classification metrics\n",
        "precision = precision_score(true_classes, predicted_classes, average='macro', zero_division=0)\n",
        "recall = recall_score(true_classes, predicted_classes, average='macro', zero_division=0)\n",
        "f1 = f1_score(true_classes, predicted_classes, average='macro', zero_division=0)\n",
        "accuracy = accuracy_score(true_classes, predicted_classes)\n",
        "\n",
        "# Calculate classification loss\n",
        "classification_loss = categorical_crossentropy(K.constant(y_val_classification), K.constant(classification_predictions))\n",
        "classification_loss = K.mean(classification_loss).numpy()  # Convert to numpy array and take mean\n",
        "\n",
        "# Print metrics\n",
        "print(f\"Classification Loss: {classification_loss}\")\n",
        "print(f\"Classification Accuracy: {accuracy}\")\n",
        "print(f\"Classification Precision: {precision}\")\n",
        "print(f\"Classification Recall: {recall}\")\n",
        "print(f\"Classification F1 Score: {f1}\")"
      ]
    },
    {
      "cell_type": "markdown",
      "metadata": {
        "id": "tvP9jPPqPLYo"
      },
      "source": [
        "# Summary"
      ]
    },
    {
      "cell_type": "code",
      "execution_count": null,
      "metadata": {
        "id": "esYT-9R7fTfE",
        "colab": {
          "base_uri": "https://localhost:8080/",
          "height": 563
        },
        "outputId": "367833f8-d845-4983-da47-ef947546da28"
      },
      "outputs": [
        {
          "output_type": "display_data",
          "data": {
            "text/plain": [
              "<Figure size 1000x600 with 1 Axes>"
            ],
            "image/png": "[encoded data removed]"
          },
          "metadata": {}
        }
      ],
      "source": [
        "# Create a figure\n",
        "plt.figure(figsize=(10, 6))\n",
        "\n",
        "plt.plot(np.arange(1, len(His_model_1.history[\"val_loss\"]) + 1), His_model_1.history[\"val_loss\"], label=\"Validation Loss - C1 Model\")\n",
        "plt.plot(np.arange(1, len(His_model_4.history[\"val_classification_output_loss\"]) + 1), His_model_4.history[\"val_classification_output_loss\"], label=\"Validation Loss - MTL1 Model\")\n",
        "plt.plot(np.arange(1, len(His_model_5.history[\"val_classification_output_loss\"]) + 1), His_model_5.history[\"val_classification_output_loss\"], label=\"Validation Loss - MTL2 Model\")\n",
        "plt.plot(np.arange(1, len(His_model_6.history[\"val_classification_output_loss\"]) + 1), His_model_6.history[\"val_classification_output_loss\"], label=\"Validation Loss - MTL3 Model\")\n",
        "\n",
        "\n",
        "# Add grid, labels, legend, and title\n",
        "plt.grid()\n",
        "plt.xlabel('Epochs')\n",
        "plt.ylabel('Loss')\n",
        "plt.legend()\n",
        "plt.title('Training and Validation Loss Curves Across Models - Classification')\n",
        "\n",
        "# Save and show the plot\n",
        "plt.savefig(\"summary_class_loss.png\")\n",
        "plt.show()"
      ]
    },
    {
      "cell_type": "code",
      "execution_count": null,
      "metadata": {
        "colab": {
          "base_uri": "https://localhost:8080/",
          "height": 563
        },
        "id": "PgmWIhbjg05C",
        "outputId": "19d0def1-6aad-4971-b707-ad22391de937"
      },
      "outputs": [
        {
          "output_type": "display_data",
          "data": {
            "text/plain": [
              "<Figure size 1000x600 with 1 Axes>"
            ],
            "image/png": "[encoded data removed]"
          },
          "metadata": {}
        }
      ],
      "source": [
        "# Create a figure\n",
        "plt.figure(figsize=(10, 6))\n",
        "\n",
        "plt.plot(np.arange(1, len(His_model_2.history[\"val_loss\"]) + 1), His_model_2.history[\"val_loss\"], label=\"Validation Loss - R1 Model\")\n",
        "plt.plot(np.arange(1, len(His_model_3.history[\"val_loss\"]) + 1), His_model_3.history[\"val_loss\"], label=\"Validation Loss - R2 Model\")\n",
        "plt.plot(np.arange(1, len(His_model_4.history[\"val_price_output_mean_squared_error\"]) + 1), His_model_4.history[\"val_price_output_mean_squared_error\"], label=\"Validation Loss - MTL1 Model\")\n",
        "plt.plot(np.arange(1, len(His_model_5.history[\"val_price_output_mean_squared_error\"]) + 1), His_model_5.history[\"val_price_output_mean_squared_error\"], label=\"Validation Loss - MTL2 Model\")\n",
        "plt.plot(np.arange(1, len(His_model_6.history[\"val_price_output_mean_squared_error\"]) + 1), His_model_6.history[\"val_price_output_mean_squared_error\"], label=\"Validation Loss - MTL3 Model\")\n",
        "\n",
        "# Add grid, labels, legend, and title\n",
        "plt.grid()\n",
        "plt.xlabel('Epochs')\n",
        "plt.ylabel('Mean Squared Error')\n",
        "plt.legend()\n",
        "plt.title('Training and Validation Loss Curves Across Models - Regression')\n",
        "\n",
        "# Save and show the plot\n",
        "plt.savefig(\"summary_reg_loss.png\")\n",
        "plt.show()"
      ]
    }
  ]
}